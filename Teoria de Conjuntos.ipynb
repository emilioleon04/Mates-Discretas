{
 "cells": [
  {
   "cell_type": "markdown",
   "id": "740fe02e",
   "metadata": {},
   "source": [
    "# Teoría de conjuntos con Python\n",
    "\n",
    "La teoría de conjuntos es un área fundamental de las matemáticas que trata sobre las propiedades y relaciones entre conjuntps, que son colecciones bien definidas de objetos. Python, como un lenguaje de programación versátil, ofrece varias formas de trabajar con conjuntos y aplicar conceptos de teoría de conjuntos."
   ]
  },
  {
   "cell_type": "markdown",
   "id": "4fa1d5da",
   "metadata": {},
   "source": [
    "## Creación de conjuntos\n",
    "\n",
    "En Python, puedes crear un conjunto utilizando llaves {} o la función set()"
   ]
  },
  {
   "cell_type": "code",
   "execution_count": 1,
   "id": "121ce50d",
   "metadata": {},
   "outputs": [],
   "source": [
    "A = {1, 2, 3, 4 ,5}"
   ]
  },
  {
   "cell_type": "code",
   "execution_count": 2,
   "id": "216b30e3",
   "metadata": {},
   "outputs": [],
   "source": [
    "B = {3, 4, 5, 6 ,7}"
   ]
  },
  {
   "cell_type": "code",
   "execution_count": 3,
   "id": "e06d1a90",
   "metadata": {},
   "outputs": [],
   "source": [
    "C = set([3, 6 , 12 , 15])"
   ]
  },
  {
   "cell_type": "markdown",
   "id": "251c67ae",
   "metadata": {},
   "source": [
    "## Listas vs Conjuntos"
   ]
  },
  {
   "cell_type": "markdown",
   "id": "3d4daae2",
   "metadata": {},
   "source": []
  },
  {
   "cell_type": "code",
   "execution_count": 4,
   "id": "4606d189",
   "metadata": {},
   "outputs": [],
   "source": [
    "lista = [1, 2, 3, 4, 5, 1, 2, 3 ,4 ,5]"
   ]
  },
  {
   "cell_type": "code",
   "execution_count": 5,
   "id": "cfa90422",
   "metadata": {},
   "outputs": [
    {
     "data": {
      "text/plain": [
       "[1, 2, 3, 4, 5, 1, 2, 3, 4, 5]"
      ]
     },
     "execution_count": 5,
     "metadata": {},
     "output_type": "execute_result"
    }
   ],
   "source": [
    "lista"
   ]
  },
  {
   "cell_type": "code",
   "execution_count": 6,
   "id": "2294e30d",
   "metadata": {},
   "outputs": [],
   "source": [
    "conjunto = set(lista)"
   ]
  },
  {
   "cell_type": "code",
   "execution_count": 7,
   "id": "8b4084d0",
   "metadata": {},
   "outputs": [
    {
     "data": {
      "text/plain": [
       "{1, 2, 3, 4, 5}"
      ]
     },
     "execution_count": 7,
     "metadata": {},
     "output_type": "execute_result"
    }
   ],
   "source": [
    "conjunto"
   ]
  },
  {
   "cell_type": "markdown",
   "id": "b29514a1",
   "metadata": {},
   "source": [
    "# Operaciones\n",
    "\n",
    "Python proporciona operadores y métodos para realizar operaciones básicas de conjuntos como unión, intersección , diferencia y diferencia simétirica"
   ]
  },
  {
   "cell_type": "markdown",
   "id": "d9b70855",
   "metadata": {},
   "source": [
    "## Unión\n",
    "\n",
    "La operación de unión en teoria de conjuntos es una operación que combina dos conjuntos para formar un nuevo conjunto que contiene todos los elementos que pertenecen a al menos uno de los conjuntos originales, sin ducplicados. En otras palabras, la unión de dos conjuntos A Y B se define como el conjunto C que contiene rodos los elementos que pertenecen a A, a B, o a ambos. \n",
    "Matemáticamente, esto se puede expresar como:\n",
    "\n",
    "$$\n",
    "    C = A \\cup B = {x:x \\in A \\quad o \\quad x \\in B}\n",
    "$$\n",
    "\n",
    "En Python, la operación de unión puede realizarse utilizando el operador | o el método de unión()"
   ]
  },
  {
   "cell_type": "code",
   "execution_count": 8,
   "id": "e59d97ea",
   "metadata": {},
   "outputs": [
    {
     "data": {
      "text/plain": [
       "{1, 2, 3, 4, 5, 6, 7}"
      ]
     },
     "execution_count": 8,
     "metadata": {},
     "output_type": "execute_result"
    }
   ],
   "source": [
    "A | B"
   ]
  },
  {
   "cell_type": "code",
   "execution_count": 9,
   "id": "890842c2",
   "metadata": {},
   "outputs": [
    {
     "data": {
      "text/plain": [
       "{1, 2, 3, 4, 5, 6, 7}"
      ]
     },
     "execution_count": 9,
     "metadata": {},
     "output_type": "execute_result"
    }
   ],
   "source": [
    "A.union(B)"
   ]
  },
  {
   "cell_type": "markdown",
   "id": "3884a889",
   "metadata": {},
   "source": [
    "## Intersección \n",
    "\n",
    "En teoría de conjuntos, la intersección de dos (o más) conjuntos es una operación que resulta en otro conjunto que contiene los elementos comunes a los conjuntos partida. Por ejemplo, dado el conjunto de los números pares P y el conjunto de los cuadrados C de números naturales, su intersección es el conjunto de los cuadrados pares.\n",
    "\n",
    "$$\n",
    "(A \\cap  B) \\cap (A \\setminus  B) = \\oslash , (A \\cap  B) \\cup (A \\setminus  B) = A\n",
    "$$\n",
    "\n",
    "En Python, la intersección de conjuntos se puede realizar utilizando la función intersection(), que toma uno o más conjuntos como entrada y devuelve su intersección en forma de otro conjunto"
   ]
  },
  {
   "cell_type": "code",
   "execution_count": 11,
   "id": "cf8fab76",
   "metadata": {},
   "outputs": [
    {
     "data": {
      "text/plain": [
       "{3, 4, 5}"
      ]
     },
     "execution_count": 11,
     "metadata": {},
     "output_type": "execute_result"
    }
   ],
   "source": [
    "A & B"
   ]
  },
  {
   "cell_type": "code",
   "execution_count": 10,
   "id": "dd98333f",
   "metadata": {},
   "outputs": [
    {
     "data": {
      "text/plain": [
       "{3, 4, 5}"
      ]
     },
     "execution_count": 10,
     "metadata": {},
     "output_type": "execute_result"
    }
   ],
   "source": [
    "A.intersection(B)"
   ]
  },
  {
   "cell_type": "markdown",
   "id": "b918b443",
   "metadata": {},
   "source": [
    "## Diferencia\n",
    "\n",
    "La diferencia de dos conjuntos A y B es el conjunto que contiene todos los elementos que pertenecen a A pero no a B. En otras palabras, la diferencia de A y B se define como el conjunto C que contiene todos los elementos x tales que:\n",
    "\n",
    "x pertenece a A\n",
    "x no pertenece a B\n",
    "Matemáticamente, esto se puede expresar como:\n",
    "\n",
    "$$\n",
    "C = A - B = {x:x \\in A \\quad y \\quad x \\notin B}\n",
    "$$\n",
    "\n",
    "En Python, la operación de diferencia se puede realizar utilizando el operador - o el método difference()."
   ]
  },
  {
   "cell_type": "code",
   "execution_count": 15,
   "id": "3bd1ce23",
   "metadata": {},
   "outputs": [
    {
     "data": {
      "text/plain": [
       "{1, 2}"
      ]
     },
     "execution_count": 15,
     "metadata": {},
     "output_type": "execute_result"
    }
   ],
   "source": [
    "A - B"
   ]
  },
  {
   "cell_type": "code",
   "execution_count": 16,
   "id": "b95a7268",
   "metadata": {},
   "outputs": [
    {
     "data": {
      "text/plain": [
       "{1, 2}"
      ]
     },
     "execution_count": 16,
     "metadata": {},
     "output_type": "execute_result"
    }
   ],
   "source": [
    "A.difference(B)"
   ]
  },
  {
   "cell_type": "markdown",
   "id": "12dd4958",
   "metadata": {},
   "source": [
    "## Diferencia simétrica\n",
    "\n",
    "La diferencia simétrica de dos conjuntos A y B es el conjunto que contiene todos los elementos que pertenecen a A o a B, pero no a ambos. En otras palabras, la diferencia simétrica de A y B se define como el conjunto C que contiene todos los elementos x tales que:\n",
    "\n",
    "x pertenece a A y no a B\n",
    "x no pertenece a A y pertenece a B\n",
    "Matemáticamente, esto se puede expresar como:\n",
    "\n",
    "$$\n",
    "C = A \\triangle B = {x:x \\in A \\quad y \\quad x \\notin B} \\cup {x:x \\notin A \\quad y \\quad x \\in B}\n",
    "$$\n",
    "\n",
    "En Python, la operación de diferencia simétrica se puede realizar utilizando el operador ^ o el método symmetric_difference()."
   ]
  },
  {
   "cell_type": "code",
   "execution_count": 13,
   "id": "57727aa2",
   "metadata": {},
   "outputs": [
    {
     "data": {
      "text/plain": [
       "{1, 2, 6, 7}"
      ]
     },
     "execution_count": 13,
     "metadata": {},
     "output_type": "execute_result"
    }
   ],
   "source": [
    "A ^ B"
   ]
  },
  {
   "cell_type": "code",
   "execution_count": 14,
   "id": "fd117b66",
   "metadata": {},
   "outputs": [
    {
     "data": {
      "text/plain": [
       "{1, 2, 6, 7}"
      ]
     },
     "execution_count": 14,
     "metadata": {},
     "output_type": "execute_result"
    }
   ],
   "source": [
    "A.symmetric_difference(B)"
   ]
  }
 ],
 "metadata": {
  "kernelspec": {
   "display_name": "Python 3 (ipykernel)",
   "language": "python",
   "name": "python3"
  },
  "language_info": {
   "codemirror_mode": {
    "name": "ipython",
    "version": 3
   },
   "file_extension": ".py",
   "mimetype": "text/x-python",
   "name": "python",
   "nbconvert_exporter": "python",
   "pygments_lexer": "ipython3",
   "version": "3.10.9"
  }
 },
 "nbformat": 4,
 "nbformat_minor": 5
}
